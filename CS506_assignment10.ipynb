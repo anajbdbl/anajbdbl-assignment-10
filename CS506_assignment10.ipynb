{
 "cells": [
  {
   "cell_type": "markdown",
   "id": "022a3742",
   "metadata": {
    "id": "022a3742"
   },
   "source": [
    "Assignment 10 Supplementary: Semantic Search Demo\n",
    "===============\n",
    "\n",
    "This Python notebook guides you through the code for Text-to-Image and Image-to-Image search.\n",
    "\n",
    "Prior to starting, you should have a file called `image_embeddings.pickle` and a file called `coco_images_resized.zip` in the current directory.\n",
    "\n",
    "First, unzip `coco_images_resized.zip`. This directory contains the images that you will search through.\n",
    "\n",
    "This assignment uses pretrained CLIP (Contrastive Language Image Pretrained) models to embed text and images into a joint embedding space. You can read about CLIP models here: https://www.pinecone.io/learn/clip-image-search/\n",
    "\n",
    "**Your end goal is to find the most relevant images given either an image or a text query.**\n",
    "\n",
    "![98b53a423ba37c682b307045e4d47fb4219165d5-1000x693.webp](data:image/webp;base64,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)"
   ]
  },
  {
   "cell_type": "markdown",
   "id": "accc70a3",
   "metadata": {
    "id": "accc70a3"
   },
   "source": [
    "### Step 1: Caclulate Image Embeddings for Dataset\n",
    "\n",
    "We first want to make our image database easily searchable. To achieve this, we calculate the image embedding for each image using the image encoder. **This has already been done for you,** because it is computationally intensive. Below is the code for reference."
   ]
  },
  {
   "cell_type": "code",
   "execution_count": null,
   "id": "d0cc329e",
   "metadata": {
    "id": "d0cc329e",
    "outputId": "bf1a1ad4-4260-457d-c32e-90f54d4f4634"
   },
   "outputs": [],
   "source": [
    "import os\n",
    "import torch\n",
    "import torchvision.transforms as transforms\n",
    "from PIL import Image\n",
    "from open_clip import create_model_and_transforms, tokenizer\n",
    "import torch.nn.functional as F\n",
    "from tqdm import tqdm\n",
    "import numpy\n",
    "\n",
    "# Configuration\n",
    "device = \"cuda\" if torch.cuda.is_available() else \"cpu\"\n",
    "model_name = \"ViT-B/32\"\n",
    "pretrained = \"openai\"\n",
    "batch_size = 128\n",
    "image_folder = \"/Users/anajuliabortolossi/cs506/CS506_Assignment_10/coco_images_resized\"  # Replace with your folder path\n",
    "\n",
    "# Load the model and preprocess function\n",
    "model, preprocess_train, preprocess_val = create_model_and_transforms(model_name, pretrained=pretrained)\n",
    "model = model.to(device)\n",
    "model.eval()\n",
    "\n",
    "# Image transformations (using preprocess_val from open_clip)\n",
    "transform = preprocess_val\n",
    "\n",
    "# Collect all image paths\n",
    "image_paths = [os.path.join(image_folder, fname) for fname in os.listdir(image_folder) if fname.lower().endswith(('.png', '.jpg', '.jpeg'))]\n",
    "print('Number of images:', len(image_paths))\n",
    "# DataFrame to store results\n",
    "results = []\n",
    "\n",
    "# Function to load and preprocess images\n",
    "def load_images(batch_paths):\n",
    "    images = []\n",
    "    for path in batch_paths:\n",
    "        try:\n",
    "            image = Image.open(path).convert(\"RGB\")\n",
    "            images.append(transform(image))\n",
    "        except Exception as e:\n",
    "            print(f\"Error loading image {path}: {e}\")\n",
    "            ## continue\n",
    "    return torch.stack(images) if images else None\n",
    "\n",
    "# Process images in batches\n",
    "with torch.no_grad():\n",
    "    for i in tqdm(range(0, len(image_paths), batch_size), desc=\"Processing images\"):\n",
    "        batch_paths = image_paths[i:i + batch_size]\n",
    "        images = load_images(batch_paths)\n",
    "        if images is None:  # Skip if no valid images in this batch\n",
    "            continue\n",
    "\n",
    "        images = images.to(device)\n",
    "        embeddings = model.encode_image(images)\n",
    "        embeddings = F.normalize(embeddings, p=2, dim=1)  # Normalize the embeddings\n",
    "\n",
    "        for path, emb in zip(batch_paths, embeddings):\n",
    "            results.append({\"file_name\": os.path.basename(path), \"embedding\": emb.cpu().numpy()})\n",
    "\n",
    "import pandas as pd\n",
    "# Save results to a DataFrame\n",
    "df = pd.DataFrame(results)\n",
    "df.to_pickle('image_embeddings.pickle')"
   ]
  },
  {
   "cell_type": "markdown",
   "id": "90baf4a1",
   "metadata": {
    "id": "90baf4a1"
   },
   "source": [
    "Run the code below to examine the dataframe.\n",
    "\n",
    "The dataframe `df` has two columns. The first column is the image file in the dataset folder. The second column is the image embedding corresponding to that image."
   ]
  },
  {
   "cell_type": "code",
   "execution_count": null,
   "id": "38e6f3ae",
   "metadata": {
    "id": "38e6f3ae",
    "outputId": "57334c9a-7407-413f-ad0e-715adff12237"
   },
   "outputs": [],
   "source": [
    "import pandas as pd\n",
    "df = pd.read_pickle('image_embeddings.pickle')\n",
    "df"
   ]
  },
  {
   "cell_type": "markdown",
   "id": "eaf9ab21",
   "metadata": {
    "id": "eaf9ab21"
   },
   "source": [
    "### Step 2: Image-to-Image Search\n",
    "\n",
    "Now you will write some code to find the closest image in the dataset to a given image query.\n",
    "\n",
    "Find a random image off the internet. Use the CLIP image encoder to encode the image; let's call this the `query_embedding`.\n",
    "\n",
    "Now, display the image in the dataset that has the **maximum cosine similarity with the query embedding.**\n",
    "\n",
    "**It is very important that you use the `ViT-B/32, openai` version of the CLIP model** to be consistent with the embeddings you were given.\n",
    "\n",
    "Here's the documentation for CLIP: https://github.com/mlfoundations/open_clip\n",
    "\n",
    "**Hint:** Take advantage of the code given to you at the bedginning of this assignment."
   ]
  },
  {
   "cell_type": "code",
   "execution_count": null,
   "id": "8e30c5c9",
   "metadata": {
    "id": "8e30c5c9"
   },
   "outputs": [],
   "source": [
    "! pip install open-clip-torch"
   ]
  },
  {
   "cell_type": "code",
   "execution_count": null,
   "id": "a7128d5e",
   "metadata": {
    "id": "a7128d5e",
    "outputId": "755b233f-9699-440c-b187-bf62b50a1884"
   },
   "outputs": [],
   "source": [
    "from IPython.display import Image\n",
    "print('This is my query image')\n",
    "Image(filename=\"house.jpg\")"
   ]
  },
  {
   "cell_type": "code",
   "execution_count": null,
   "id": "65967b33",
   "metadata": {
    "id": "65967b33"
   },
   "outputs": [],
   "source": [
    "from PIL import Image\n",
    "from open_clip import create_model_and_transforms, tokenizer\n",
    "import torch.nn.functional as F\n",
    "\n",
    "model, _, preprocess = create_model_and_transforms('ViT-B/32', pretrained='openai')\n",
    "\n",
    "# This converts the image to a tensor\n",
    "image = preprocess(Image.open(\"house.jpg\")).unsqueeze(0)\n",
    "\n",
    "# This calculates the query embedding\n",
    "query_embedding = F.normalize(model.encode_image(image))"
   ]
  },
  {
   "cell_type": "code",
   "execution_count": null,
   "id": "b41b1758",
   "metadata": {
    "id": "b41b1758"
   },
   "outputs": [],
   "source": [
    "# Retrieve the image path that corresponds to the embedding in `df`\n",
    "# with the highest cosine similarity to query_embedding\n",
    "# Load the query image\n",
    "query_image_path = \"house.jpg\"  # Replace with your query image path\n",
    "query_image = preprocess(Image.open(query_image_path)).unsqueeze(0).to(device)\n",
    "\n",
    "# Compute the query embedding\n",
    "with torch.no_grad():\n",
    "    query_embedding = F.normalize(model.encode_image(query_image), p=2, dim=1)\n",
    "\n",
    "# Function to calculate cosine similarity\n",
    "def cosine_similarity(embedding1, embedding2):\n",
    "    return torch.dot(embedding1.squeeze(), embedding2.squeeze())\n",
    "\n",
    "# Find the image in the dataset with the highest cosine similarity to the query embedding\n",
    "max_similarity = float('-inf')\n",
    "best_match_path = None\n",
    "\n",
    "for _, row in df.iterrows():\n",
    "    embedding = torch.tensor(row['embedding'], device=device)\n",
    "    similarity = cosine_similarity(query_embedding, embedding)\n",
    "    if similarity > max_similarity:\n",
    "        max_similarity = similarity\n",
    "        best_match_path = row['file_name']\n",
    "\n",
    "# Display the query image\n",
    "print(\"Query Image:\")\n",
    "DisplayImage(filename=query_image_path).show()\n",
    "\n",
    "# Display the best match image\n",
    "print(\"Most Similar Image in Dataset:\")\n",
    "DisplayImage(filename=best_match_path).show()"
   ]
  },
  {
   "cell_type": "code",
   "execution_count": null,
   "id": "14174a8c",
   "metadata": {
    "id": "14174a8c",
    "outputId": "fbf1d084-44d6-49c7-8977-8b1e29004b54"
   },
   "outputs": [],
   "source": [
    "from IPython.display import Image\n",
    "Image(filename=impath)"
   ]
  },
  {
   "cell_type": "markdown",
   "id": "0ef1b63d",
   "metadata": {
    "id": "0ef1b63d"
   },
   "source": [
    "### Step 3: Text-to-Image Search\n",
    "\n",
    "Now implement text-to-image-search.\n",
    "\n",
    "The only difference here is that the query is a string of text. You will use the text encoder to obtain the corresponding query embedding."
   ]
  },
  {
   "cell_type": "code",
   "execution_count": null,
   "id": "6255c44a",
   "metadata": {
    "id": "6255c44a",
    "outputId": "b642ad53-8865-4fc6-d8da-e3510c5c211d"
   },
   "outputs": [],
   "source": [
    "import open_clip\n",
    "\n",
    "tokenizer = open_clip.get_tokenizer('ViT-B-32')\n",
    "model.eval()\n",
    "text = tokenizer([\"cat cuddles with dog on sofa.\"])\n",
    "query_embedding = F.normalize(model.encode_text(text))\n",
    "\n",
    "# Retrieve the image path that corresponds to the embedding in `df`\n",
    "# with the highest cosine similarity to query_embedding\n",
    "impath =\n",
    "\n",
    "from IPython.display import Image\n",
    "Image(filename=impath)"
   ]
  },
  {
   "cell_type": "markdown",
   "id": "9cd316f4",
   "metadata": {
    "id": "9cd316f4"
   },
   "source": [
    "### Step 4:  Hybrid Query\n",
    "\n",
    "A more interesting query could contain both image and text.\n",
    "\n",
    "For example, instead of explicitly searching for an \"image of snowy house\", you could search for \"snowy\" + an image of a house.\n",
    "\n",
    "\n",
    "In this case, you should embed both the text query and the image query. Then, the query embedding is a weighted average of the two embeddings."
   ]
  },
  {
   "cell_type": "code",
   "execution_count": null,
   "id": "44464cce",
   "metadata": {
    "id": "44464cce",
    "outputId": "1110a5ae-5427-416e-e760-a80026abbf0c"
   },
   "outputs": [],
   "source": [
    "from PIL import Image\n",
    "\n",
    "image = preprocess(Image.open(\"house.jpg\")).unsqueeze(0)\n",
    "image_query = F.normalize(model.encode_image(image))\n",
    "text = tokenizer([\"snowy\"])\n",
    "text_query = F.normalize(model.encode_text(text))\n",
    "\n",
    "lam  = 0.8 # tune this\n",
    "\n",
    "query = F.normalize(lam * text_query + (1.0 - lam) * image_query)\n",
    "\n",
    "impath =\n",
    "\n",
    "from IPython.display import Image\n",
    "Image(filename=impath)"
   ]
  }
 ],
 "metadata": {
  "colab": {
   "provenance": []
  },
  "kernelspec": {
   "display_name": ".venv",
   "language": "python",
   "name": "python3"
  },
  "language_info": {
   "codemirror_mode": {
    "name": "ipython",
    "version": 3
   },
   "file_extension": ".py",
   "mimetype": "text/x-python",
   "name": "python",
   "nbconvert_exporter": "python",
   "pygments_lexer": "ipython3",
   "version": "3.12.6"
  }
 },
 "nbformat": 4,
 "nbformat_minor": 5
}
